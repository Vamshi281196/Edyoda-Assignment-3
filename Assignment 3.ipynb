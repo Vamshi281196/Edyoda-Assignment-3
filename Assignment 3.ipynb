{
 "cells": [
  {
   "cell_type": "markdown",
   "id": "faebfd2e",
   "metadata": {},
   "source": [
    "Write a Python function to sum all the numbers in a list\n",
    "Sample List : (8, 2, 3, 0, 7)\n",
    "Expected Output : 20"
   ]
  },
  {
   "cell_type": "code",
   "execution_count": 27,
   "id": "63eca3a6",
   "metadata": {},
   "outputs": [
    {
     "name": "stdout",
     "output_type": "stream",
     "text": [
      "Sample List= [8, 2, 3, 0, 7]\n",
      "Expected Output= 20\n"
     ]
    }
   ],
   "source": [
    "    list1 = [8,2,3,0,7]\n",
    "    def sumoflist(list1):\n",
    "        listsum = 0\n",
    "        for i in list1:\n",
    "            listsum = listsum + i\n",
    "        return listsum\n",
    "    print(\"Sample List=\", list1)\n",
    "    lsum = sumoflist(list1)\n",
    "    print(\"Expected Output=\", lsum)"
   ]
  },
  {
   "cell_type": "code",
   "execution_count": 29,
   "id": "c3ccb4b9",
   "metadata": {},
   "outputs": [
    {
     "name": "stdout",
     "output_type": "stream",
     "text": [
      "Sample String= 1234abcd\n",
      "Expected Output= dcba4321\n"
     ]
    }
   ],
   "source": [
    "#Write a Python program to reverse a string.\n",
    "str1=\"1234abcd\"\n",
    "def reversestring(str1):\n",
    "    return str1[::-1]\n",
    "print(\"Sample String=\", str1)\n",
    "strreverse = reversestring(str1)\n",
    "print(\"Expected Output=\", strreverse)"
   ]
  },
  {
   "cell_type": "code",
   "execution_count": 5,
   "id": "0b46c8e9",
   "metadata": {},
   "outputs": [
    {
     "name": "stdout",
     "output_type": "stream",
     "text": [
      "The quick Brow Fox\n",
      "enter the string The quick Brow Fox\n",
      "no of lowercase letters in a string 12\n",
      "no of uppercase letters in a string 3\n"
     ]
    }
   ],
   "source": [
    " #Write a Python function that accepts a string and calculate the number of upper case letters and lower case letters.\n",
    "\n",
    "def upperlowerstring(a):\n",
    "        lowerstr=upperstr=0\n",
    "        for i in a:\n",
    "            if (i.isupper()):\n",
    "                upperstr+=1\n",
    "            elif (i.islower()):\n",
    "                lowerstr+=1\n",
    "        print(\"no of lowercase letters in a string\", lowerstr)\n",
    "        print(\"no of uppercase letters in a string\", upperstr)\n",
    "s=input(\"\")\n",
    "print(\"enter the string\",s)\n",
    "upperlowerstring(s)"
   ]
  },
  {
   "cell_type": "code",
   "execution_count": null,
   "id": "e046b1c8",
   "metadata": {},
   "outputs": [],
   "source": []
  },
  {
   "cell_type": "code",
   "execution_count": null,
   "id": "8832a1ba",
   "metadata": {},
   "outputs": [],
   "source": []
  }
 ],
 "metadata": {
  "kernelspec": {
   "display_name": "Python 3 (ipykernel)",
   "language": "python",
   "name": "python3"
  },
  "language_info": {
   "codemirror_mode": {
    "name": "ipython",
    "version": 3
   },
   "file_extension": ".py",
   "mimetype": "text/x-python",
   "name": "python",
   "nbconvert_exporter": "python",
   "pygments_lexer": "ipython3",
   "version": "3.10.1"
  }
 },
 "nbformat": 4,
 "nbformat_minor": 5
}
